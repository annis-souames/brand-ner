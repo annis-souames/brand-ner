{
  "nbformat": 4,
  "nbformat_minor": 0,
  "metadata": {
    "colab": {
      "name": "Clean Amazon Data.ipynb",
      "provenance": [],
      "collapsed_sections": []
    },
    "kernelspec": {
      "name": "python3",
      "display_name": "Python 3"
    }
  },
  "cells": [
    {
      "cell_type": "markdown",
      "source": [
        "In this notebook we will download data from the Amazon Product Reviews Dataset for 4 categories : computers, food & beverages, office supplies and industrial tools. We will then concatenate every category in one dataframe and apply some cleaning functions \n",
        "\n",
        "Let's start by importing some libraries !\n",
        "\n",
        "**Important note:** You should run this notebook for every amazon category file, then concat the results in one dataframe."
      ],
      "metadata": {
        "id": "D_bp_Lqvjpod"
      }
    },
    {
      "cell_type": "code",
      "metadata": {
        "id": "f5NDXrN2CtH7"
      },
      "source": [
        "import os\n",
        "import json\n",
        "import gzip\n",
        "import pandas as pd\n",
        "from urllib.request import urlopen"
      ],
      "execution_count": null,
      "outputs": []
    },
    {
      "cell_type": "markdown",
      "source": [
        "Let's download the dataset for Food & Beverage (you need to do the same for every category you wish to include) , you can fin the links here : https://nijianmo.github.io/amazon/index.html"
      ],
      "metadata": {
        "id": "QK5ZjSPh2S5U"
      }
    },
    {
      "cell_type": "code",
      "metadata": {
        "id": "feWoOrmt4Tja",
        "colab": {
          "base_uri": "https://localhost:8080/"
        },
        "outputId": "a479f93f-53cc-46d1-e234-ec4560bb0f2a"
      },
      "source": [
        "!wget http://deepyeti.ucsd.edu/jianmo/amazon/metaFiles2/meta_Grocery_and_Gourmet_Food.json.gz"
      ],
      "execution_count": null,
      "outputs": [
        {
          "output_type": "stream",
          "name": "stdout",
          "text": [
            "--2022-01-04 17:13:53--  http://deepyeti.ucsd.edu/jianmo/amazon/metaFiles2/meta_Grocery_and_Gourmet_Food.json.gz\n",
            "Resolving deepyeti.ucsd.edu (deepyeti.ucsd.edu)... 169.228.63.50\n",
            "Connecting to deepyeti.ucsd.edu (deepyeti.ucsd.edu)|169.228.63.50|:80... connected.\n",
            "HTTP request sent, awaiting response... 200 OK\n",
            "Length: 109586529 (105M) [application/octet-stream]\n",
            "Saving to: ‘meta_Grocery_and_Gourmet_Food.json.gz’\n",
            "\n",
            "meta_Grocery_and_Go 100%[===================>] 104.51M  96.1MB/s    in 1.1s    \n",
            "\n",
            "2022-01-04 17:13:54 (96.1 MB/s) - ‘meta_Grocery_and_Gourmet_Food.json.gz’ saved [109586529/109586529]\n",
            "\n"
          ]
        }
      ]
    },
    {
      "cell_type": "code",
      "metadata": {
        "id": "7igYuRaV4bF7",
        "colab": {
          "base_uri": "https://localhost:8080/"
        },
        "outputId": "44888f16-6c60-4fb5-aafe-f249381cb120"
      },
      "source": [
        "### load the meta data\n",
        "\n",
        "data = []\n",
        "with gzip.open('meta_Grocery_and_Gourmet_Food.json.gz') as f:\n",
        "    for l in f:\n",
        "        data.append(json.loads(l.strip()))\n",
        "    \n",
        "# total length of list, this number equals total number of products\n",
        "print(len(data))\n",
        "\n",
        "# first row of the list\n",
        "print(data[0])"
      ],
      "execution_count": null,
      "outputs": [
        {
          "output_type": "stream",
          "name": "stdout",
          "text": [
            "287051\n",
            "{'category': ['Grocery & Gourmet Food', 'Dairy, Cheese & Eggs', 'Cheese', 'Gouda'], 'tech1': '', 'description': ['BEEMSTER GOUDA CHEESE AGED 18/24 MONTHS', 'Statements regarding dietary supplements have not been evaluated by the FDA and are not intended to diagnose, treat, cure, or prevent any disease or health condition.'], 'fit': '', 'title': 'Beemster Gouda - Aged 18/24 Months - App. 1.5 Lbs', 'also_buy': [], 'tech2': '', 'brand': 'Ariola Imports', 'feature': [], 'rank': '165,181 in Grocery & Gourmet Food (', 'also_view': ['B0000D9MYM', 'B0000D9MYL', 'B00ADHIGBA', 'B00H9OX598', 'B001LM42GY', 'B001LM5TDY'], 'main_cat': 'Grocery', 'similar_item': '', 'date': '', 'price': '$41.91', 'asin': '0681727810', 'imageURL': [], 'imageURLHighRes': []}\n"
          ]
        }
      ]
    },
    {
      "cell_type": "code",
      "metadata": {
        "id": "knpHP22w4scK",
        "colab": {
          "base_uri": "https://localhost:8080/"
        },
        "outputId": "beb9930f-63ab-4131-9288-6a63aecbc226"
      },
      "source": [
        "# convert list into pandas dataframe\n",
        "\n",
        "df = pd.DataFrame.from_dict(data)\n",
        "\n",
        "print(len(df))"
      ],
      "execution_count": null,
      "outputs": [
        {
          "output_type": "stream",
          "name": "stdout",
          "text": [
            "287051\n"
          ]
        }
      ]
    },
    {
      "cell_type": "code",
      "source": [
        "df[['title','brand']]"
      ],
      "metadata": {
        "colab": {
          "base_uri": "https://localhost:8080/",
          "height": 423
        },
        "id": "BsKBavCa2b7Q",
        "outputId": "67a37656-5553-4e9a-aa91-1a20ceeb3425"
      },
      "execution_count": null,
      "outputs": [
        {
          "output_type": "execute_result",
          "data": {
            "text/html": [
              "\n",
              "  <div id=\"df-5eca87f4-07f2-49c5-9679-d93ab8dc9e52\">\n",
              "    <div class=\"colab-df-container\">\n",
              "      <div>\n",
              "<style scoped>\n",
              "    .dataframe tbody tr th:only-of-type {\n",
              "        vertical-align: middle;\n",
              "    }\n",
              "\n",
              "    .dataframe tbody tr th {\n",
              "        vertical-align: top;\n",
              "    }\n",
              "\n",
              "    .dataframe thead th {\n",
              "        text-align: right;\n",
              "    }\n",
              "</style>\n",
              "<table border=\"1\" class=\"dataframe\">\n",
              "  <thead>\n",
              "    <tr style=\"text-align: right;\">\n",
              "      <th></th>\n",
              "      <th>title</th>\n",
              "      <th>brand</th>\n",
              "    </tr>\n",
              "  </thead>\n",
              "  <tbody>\n",
              "    <tr>\n",
              "      <th>0</th>\n",
              "      <td>Beemster Gouda - Aged 18/24 Months - App. 1.5 Lbs</td>\n",
              "      <td>Ariola Imports</td>\n",
              "    </tr>\n",
              "    <tr>\n",
              "      <th>1</th>\n",
              "      <td>Trim Healthy Mama Xylitol</td>\n",
              "      <td></td>\n",
              "    </tr>\n",
              "    <tr>\n",
              "      <th>2</th>\n",
              "      <td>Letter C - Swarovski Crystal Monogram Wedding ...</td>\n",
              "      <td>Unik Occasions</td>\n",
              "    </tr>\n",
              "    <tr>\n",
              "      <th>3</th>\n",
              "      <td>Letter H - Swarovski Crystal Monogram Wedding ...</td>\n",
              "      <td>Other</td>\n",
              "    </tr>\n",
              "    <tr>\n",
              "      <th>4</th>\n",
              "      <td>Letter S - Swarovski Crystal Monogram Wedding ...</td>\n",
              "      <td>Unik Occasions</td>\n",
              "    </tr>\n",
              "    <tr>\n",
              "      <th>...</th>\n",
              "      <td>...</td>\n",
              "      <td>...</td>\n",
              "    </tr>\n",
              "    <tr>\n",
              "      <th>287046</th>\n",
              "      <td>Caffarel Fruit Jellies, Organic Assorted, 200 ...</td>\n",
              "      <td>Caffarel</td>\n",
              "    </tr>\n",
              "    <tr>\n",
              "      <th>287047</th>\n",
              "      <td>HAMPTON CREEK Spo Just Truffle Mayo, 12 Ounce</td>\n",
              "      <td>Hampton Creek</td>\n",
              "    </tr>\n",
              "    <tr>\n",
              "      <th>287048</th>\n",
              "      <td>HAMPTON CREEK Just Ranch Dressing, 12 Fluid Ounce</td>\n",
              "      <td>Hampton Creek</td>\n",
              "    </tr>\n",
              "    <tr>\n",
              "      <th>287049</th>\n",
              "      <td>Gourmet Pure Vanilla Bean Pastes - Organically...</td>\n",
              "      <td>Heilala Vanilla</td>\n",
              "    </tr>\n",
              "    <tr>\n",
              "      <th>287050</th>\n",
              "      <td>McClure's Pickles Bloody Mary Mix-Spicy-32 oz ...</td>\n",
              "      <td>McClure's</td>\n",
              "    </tr>\n",
              "  </tbody>\n",
              "</table>\n",
              "<p>287051 rows × 2 columns</p>\n",
              "</div>\n",
              "      <button class=\"colab-df-convert\" onclick=\"convertToInteractive('df-5eca87f4-07f2-49c5-9679-d93ab8dc9e52')\"\n",
              "              title=\"Convert this dataframe to an interactive table.\"\n",
              "              style=\"display:none;\">\n",
              "        \n",
              "  <svg xmlns=\"http://www.w3.org/2000/svg\" height=\"24px\"viewBox=\"0 0 24 24\"\n",
              "       width=\"24px\">\n",
              "    <path d=\"M0 0h24v24H0V0z\" fill=\"none\"/>\n",
              "    <path d=\"M18.56 5.44l.94 2.06.94-2.06 2.06-.94-2.06-.94-.94-2.06-.94 2.06-2.06.94zm-11 1L8.5 8.5l.94-2.06 2.06-.94-2.06-.94L8.5 2.5l-.94 2.06-2.06.94zm10 10l.94 2.06.94-2.06 2.06-.94-2.06-.94-.94-2.06-.94 2.06-2.06.94z\"/><path d=\"M17.41 7.96l-1.37-1.37c-.4-.4-.92-.59-1.43-.59-.52 0-1.04.2-1.43.59L10.3 9.45l-7.72 7.72c-.78.78-.78 2.05 0 2.83L4 21.41c.39.39.9.59 1.41.59.51 0 1.02-.2 1.41-.59l7.78-7.78 2.81-2.81c.8-.78.8-2.07 0-2.86zM5.41 20L4 18.59l7.72-7.72 1.47 1.35L5.41 20z\"/>\n",
              "  </svg>\n",
              "      </button>\n",
              "      \n",
              "  <style>\n",
              "    .colab-df-container {\n",
              "      display:flex;\n",
              "      flex-wrap:wrap;\n",
              "      gap: 12px;\n",
              "    }\n",
              "\n",
              "    .colab-df-convert {\n",
              "      background-color: #E8F0FE;\n",
              "      border: none;\n",
              "      border-radius: 50%;\n",
              "      cursor: pointer;\n",
              "      display: none;\n",
              "      fill: #1967D2;\n",
              "      height: 32px;\n",
              "      padding: 0 0 0 0;\n",
              "      width: 32px;\n",
              "    }\n",
              "\n",
              "    .colab-df-convert:hover {\n",
              "      background-color: #E2EBFA;\n",
              "      box-shadow: 0px 1px 2px rgba(60, 64, 67, 0.3), 0px 1px 3px 1px rgba(60, 64, 67, 0.15);\n",
              "      fill: #174EA6;\n",
              "    }\n",
              "\n",
              "    [theme=dark] .colab-df-convert {\n",
              "      background-color: #3B4455;\n",
              "      fill: #D2E3FC;\n",
              "    }\n",
              "\n",
              "    [theme=dark] .colab-df-convert:hover {\n",
              "      background-color: #434B5C;\n",
              "      box-shadow: 0px 1px 3px 1px rgba(0, 0, 0, 0.15);\n",
              "      filter: drop-shadow(0px 1px 2px rgba(0, 0, 0, 0.3));\n",
              "      fill: #FFFFFF;\n",
              "    }\n",
              "  </style>\n",
              "\n",
              "      <script>\n",
              "        const buttonEl =\n",
              "          document.querySelector('#df-5eca87f4-07f2-49c5-9679-d93ab8dc9e52 button.colab-df-convert');\n",
              "        buttonEl.style.display =\n",
              "          google.colab.kernel.accessAllowed ? 'block' : 'none';\n",
              "\n",
              "        async function convertToInteractive(key) {\n",
              "          const element = document.querySelector('#df-5eca87f4-07f2-49c5-9679-d93ab8dc9e52');\n",
              "          const dataTable =\n",
              "            await google.colab.kernel.invokeFunction('convertToInteractive',\n",
              "                                                     [key], {});\n",
              "          if (!dataTable) return;\n",
              "\n",
              "          const docLinkHtml = 'Like what you see? Visit the ' +\n",
              "            '<a target=\"_blank\" href=https://colab.research.google.com/notebooks/data_table.ipynb>data table notebook</a>'\n",
              "            + ' to learn more about interactive tables.';\n",
              "          element.innerHTML = '';\n",
              "          dataTable['output_type'] = 'display_data';\n",
              "          await google.colab.output.renderOutput(dataTable, element);\n",
              "          const docLink = document.createElement('div');\n",
              "          docLink.innerHTML = docLinkHtml;\n",
              "          element.appendChild(docLink);\n",
              "        }\n",
              "      </script>\n",
              "    </div>\n",
              "  </div>\n",
              "  "
            ],
            "text/plain": [
              "                                                    title            brand\n",
              "0       Beemster Gouda - Aged 18/24 Months - App. 1.5 Lbs   Ariola Imports\n",
              "1                               Trim Healthy Mama Xylitol                 \n",
              "2       Letter C - Swarovski Crystal Monogram Wedding ...   Unik Occasions\n",
              "3       Letter H - Swarovski Crystal Monogram Wedding ...            Other\n",
              "4       Letter S - Swarovski Crystal Monogram Wedding ...   Unik Occasions\n",
              "...                                                   ...              ...\n",
              "287046  Caffarel Fruit Jellies, Organic Assorted, 200 ...         Caffarel\n",
              "287047      HAMPTON CREEK Spo Just Truffle Mayo, 12 Ounce    Hampton Creek\n",
              "287048  HAMPTON CREEK Just Ranch Dressing, 12 Fluid Ounce    Hampton Creek\n",
              "287049  Gourmet Pure Vanilla Bean Pastes - Organically...  Heilala Vanilla\n",
              "287050  McClure's Pickles Bloody Mary Mix-Spicy-32 oz ...        McClure's\n",
              "\n",
              "[287051 rows x 2 columns]"
            ]
          },
          "metadata": {},
          "execution_count": 22
        }
      ]
    },
    {
      "cell_type": "markdown",
      "source": [
        "Next we will write a function that do the following\n",
        "\n",
        "- Remove any special char\n",
        "- Keep only titles having the brand in them\n",
        "- Keep only titles shorter than 13 words\n",
        "- Convert HTML encodings to characters\n",
        "- Remove all NAs"
      ],
      "metadata": {
        "id": "_4NIGWNO1jAp"
      }
    },
    {
      "cell_type": "code",
      "source": [
        "def clean_data(df):\n",
        "  df = df[['title','brand','asin']]\n",
        "  special_chars = ['','-','_','#','@','$','=','+','*','£','%',',','.']\n",
        "  is_branded = df.apply(lambda x : str(x['brand']) in x['title'],axis=1)\n",
        "  # Remove brands that are numbers; symbols and length of brand is less than 3 words\n",
        "  is_brand_real = df.apply(lambda x: str(x.brand).isdigit() == False and str(x.brand) not in special_chars,axis=1)\n",
        "  is_short_brand = df.apply(lambda x: len(str(x.brand).split(\" \")) < 3, axis=1)\n",
        "  # Keep only short titles : shorter than 12 words\n",
        "  is_title_short = df.apply(lambda x: len(x.title.split(' ')) < 13,axis=1)\n",
        "  # Remove unformatted rows\n",
        "  filled_df = df.fillna('')\n",
        "  is_html = filled_df.title.str.contains('getTime')\n",
        "  # Replace entity html codes : \n",
        "  to_replace = {\n",
        "      '&quot;': '\"',\n",
        "      '&copy;': '',\n",
        "      '&reg;' : '',\n",
        "      '&amp;': '&'\n",
        "  }\n",
        "  ## Apply all the filters\n",
        "  filled_df = filled_df.replace(to_replace)\n",
        "  df_clean = filled_df[~is_html][is_branded][is_brand_real][is_title_short]\n",
        "  # Deduplicate \n",
        "  df_clean = df_clean.drop_duplicates(subset='title',keep='first')\n",
        " \n",
        "  return df_clean"
      ],
      "metadata": {
        "id": "Z1rqOAFWlz45"
      },
      "execution_count": null,
      "outputs": []
    },
    {
      "cell_type": "code",
      "source": [
        "cleaned_data = clean_data(df)"
      ],
      "metadata": {
        "colab": {
          "base_uri": "https://localhost:8080/"
        },
        "id": "oA6mCQK4xe43",
        "outputId": "d95fc960-2714-4c08-c969-3fc70068edea"
      },
      "execution_count": null,
      "outputs": [
        {
          "output_type": "stream",
          "name": "stderr",
          "text": [
            "/usr/local/lib/python3.7/dist-packages/ipykernel_launcher.py:22: UserWarning: Boolean Series key will be reindexed to match DataFrame index.\n"
          ]
        }
      ]
    },
    {
      "cell_type": "code",
      "source": [
        "cleaned_data"
      ],
      "metadata": {
        "colab": {
          "base_uri": "https://localhost:8080/",
          "height": 423
        },
        "id": "9VEF7kWs6iaF",
        "outputId": "7d752201-d59f-4ee8-e180-4bd972028c24"
      },
      "execution_count": null,
      "outputs": [
        {
          "output_type": "execute_result",
          "data": {
            "text/html": [
              "\n",
              "  <div id=\"df-49489a11-ab13-47d0-9c5a-bca1b4eb1724\">\n",
              "    <div class=\"colab-df-container\">\n",
              "      <div>\n",
              "<style scoped>\n",
              "    .dataframe tbody tr th:only-of-type {\n",
              "        vertical-align: middle;\n",
              "    }\n",
              "\n",
              "    .dataframe tbody tr th {\n",
              "        vertical-align: top;\n",
              "    }\n",
              "\n",
              "    .dataframe thead th {\n",
              "        text-align: right;\n",
              "    }\n",
              "</style>\n",
              "<table border=\"1\" class=\"dataframe\">\n",
              "  <thead>\n",
              "    <tr style=\"text-align: right;\">\n",
              "      <th></th>\n",
              "      <th>title</th>\n",
              "      <th>brand</th>\n",
              "      <th>asin</th>\n",
              "    </tr>\n",
              "  </thead>\n",
              "  <tbody>\n",
              "    <tr>\n",
              "      <th>10</th>\n",
              "      <td>Lipton Yellow Label Tea (loose tea) - 450g</td>\n",
              "      <td>Lipton</td>\n",
              "      <td>4639725043</td>\n",
              "    </tr>\n",
              "    <tr>\n",
              "      <th>12</th>\n",
              "      <td>Wagh Bakri Masala Chai 100's (Pack of 3)</td>\n",
              "      <td>Wagh Bakri</td>\n",
              "      <td>4858582000</td>\n",
              "    </tr>\n",
              "    <tr>\n",
              "      <th>13</th>\n",
              "      <td>Nutrela High Protein Soya Chunks 200g (Pack of 6)</td>\n",
              "      <td>Nutrela</td>\n",
              "      <td>5236363640</td>\n",
              "    </tr>\n",
              "    <tr>\n",
              "      <th>15</th>\n",
              "      <td>Organo Gold Cafe Supreme 100% Certified Ganode...</td>\n",
              "      <td>Organo Gold</td>\n",
              "      <td>5463213682</td>\n",
              "    </tr>\n",
              "    <tr>\n",
              "      <th>16</th>\n",
              "      <td>MDH Kashmiri Mirch 100g</td>\n",
              "      <td>MDH</td>\n",
              "      <td>5478541265</td>\n",
              "    </tr>\n",
              "    <tr>\n",
              "      <th>...</th>\n",
              "      <td>...</td>\n",
              "      <td>...</td>\n",
              "      <td>...</td>\n",
              "    </tr>\n",
              "    <tr>\n",
              "      <th>287037</th>\n",
              "      <td>Kashi Dark Cocoa Karma Cereal 16.1oz</td>\n",
              "      <td>Kashi</td>\n",
              "      <td>B01HJ57HNG</td>\n",
              "    </tr>\n",
              "    <tr>\n",
              "      <th>287040</th>\n",
              "      <td>Kashi Quinoa Corn &amp;amp; Roasted Pepper Granola...</td>\n",
              "      <td>Kashi</td>\n",
              "      <td>B01HJ5Y05Y</td>\n",
              "    </tr>\n",
              "    <tr>\n",
              "      <th>287041</th>\n",
              "      <td>WakeShake Collagen Protein Meal Replacement Sh...</td>\n",
              "      <td>WakeShake</td>\n",
              "      <td>B01HJ7QPKU</td>\n",
              "    </tr>\n",
              "    <tr>\n",
              "      <th>287046</th>\n",
              "      <td>Caffarel Fruit Jellies, Organic Assorted, 200 ...</td>\n",
              "      <td>Caffarel</td>\n",
              "      <td>B01HJFBN9A</td>\n",
              "    </tr>\n",
              "    <tr>\n",
              "      <th>287050</th>\n",
              "      <td>McClure's Pickles Bloody Mary Mix-Spicy-32 oz ...</td>\n",
              "      <td>McClure's</td>\n",
              "      <td>B01HJFRDDA</td>\n",
              "    </tr>\n",
              "  </tbody>\n",
              "</table>\n",
              "<p>123492 rows × 3 columns</p>\n",
              "</div>\n",
              "      <button class=\"colab-df-convert\" onclick=\"convertToInteractive('df-49489a11-ab13-47d0-9c5a-bca1b4eb1724')\"\n",
              "              title=\"Convert this dataframe to an interactive table.\"\n",
              "              style=\"display:none;\">\n",
              "        \n",
              "  <svg xmlns=\"http://www.w3.org/2000/svg\" height=\"24px\"viewBox=\"0 0 24 24\"\n",
              "       width=\"24px\">\n",
              "    <path d=\"M0 0h24v24H0V0z\" fill=\"none\"/>\n",
              "    <path d=\"M18.56 5.44l.94 2.06.94-2.06 2.06-.94-2.06-.94-.94-2.06-.94 2.06-2.06.94zm-11 1L8.5 8.5l.94-2.06 2.06-.94-2.06-.94L8.5 2.5l-.94 2.06-2.06.94zm10 10l.94 2.06.94-2.06 2.06-.94-2.06-.94-.94-2.06-.94 2.06-2.06.94z\"/><path d=\"M17.41 7.96l-1.37-1.37c-.4-.4-.92-.59-1.43-.59-.52 0-1.04.2-1.43.59L10.3 9.45l-7.72 7.72c-.78.78-.78 2.05 0 2.83L4 21.41c.39.39.9.59 1.41.59.51 0 1.02-.2 1.41-.59l7.78-7.78 2.81-2.81c.8-.78.8-2.07 0-2.86zM5.41 20L4 18.59l7.72-7.72 1.47 1.35L5.41 20z\"/>\n",
              "  </svg>\n",
              "      </button>\n",
              "      \n",
              "  <style>\n",
              "    .colab-df-container {\n",
              "      display:flex;\n",
              "      flex-wrap:wrap;\n",
              "      gap: 12px;\n",
              "    }\n",
              "\n",
              "    .colab-df-convert {\n",
              "      background-color: #E8F0FE;\n",
              "      border: none;\n",
              "      border-radius: 50%;\n",
              "      cursor: pointer;\n",
              "      display: none;\n",
              "      fill: #1967D2;\n",
              "      height: 32px;\n",
              "      padding: 0 0 0 0;\n",
              "      width: 32px;\n",
              "    }\n",
              "\n",
              "    .colab-df-convert:hover {\n",
              "      background-color: #E2EBFA;\n",
              "      box-shadow: 0px 1px 2px rgba(60, 64, 67, 0.3), 0px 1px 3px 1px rgba(60, 64, 67, 0.15);\n",
              "      fill: #174EA6;\n",
              "    }\n",
              "\n",
              "    [theme=dark] .colab-df-convert {\n",
              "      background-color: #3B4455;\n",
              "      fill: #D2E3FC;\n",
              "    }\n",
              "\n",
              "    [theme=dark] .colab-df-convert:hover {\n",
              "      background-color: #434B5C;\n",
              "      box-shadow: 0px 1px 3px 1px rgba(0, 0, 0, 0.15);\n",
              "      filter: drop-shadow(0px 1px 2px rgba(0, 0, 0, 0.3));\n",
              "      fill: #FFFFFF;\n",
              "    }\n",
              "  </style>\n",
              "\n",
              "      <script>\n",
              "        const buttonEl =\n",
              "          document.querySelector('#df-49489a11-ab13-47d0-9c5a-bca1b4eb1724 button.colab-df-convert');\n",
              "        buttonEl.style.display =\n",
              "          google.colab.kernel.accessAllowed ? 'block' : 'none';\n",
              "\n",
              "        async function convertToInteractive(key) {\n",
              "          const element = document.querySelector('#df-49489a11-ab13-47d0-9c5a-bca1b4eb1724');\n",
              "          const dataTable =\n",
              "            await google.colab.kernel.invokeFunction('convertToInteractive',\n",
              "                                                     [key], {});\n",
              "          if (!dataTable) return;\n",
              "\n",
              "          const docLinkHtml = 'Like what you see? Visit the ' +\n",
              "            '<a target=\"_blank\" href=https://colab.research.google.com/notebooks/data_table.ipynb>data table notebook</a>'\n",
              "            + ' to learn more about interactive tables.';\n",
              "          element.innerHTML = '';\n",
              "          dataTable['output_type'] = 'display_data';\n",
              "          await google.colab.output.renderOutput(dataTable, element);\n",
              "          const docLink = document.createElement('div');\n",
              "          docLink.innerHTML = docLinkHtml;\n",
              "          element.appendChild(docLink);\n",
              "        }\n",
              "      </script>\n",
              "    </div>\n",
              "  </div>\n",
              "  "
            ],
            "text/plain": [
              "                                                    title  ...        asin\n",
              "10             Lipton Yellow Label Tea (loose tea) - 450g  ...  4639725043\n",
              "12               Wagh Bakri Masala Chai 100's (Pack of 3)  ...  4858582000\n",
              "13      Nutrela High Protein Soya Chunks 200g (Pack of 6)  ...  5236363640\n",
              "15      Organo Gold Cafe Supreme 100% Certified Ganode...  ...  5463213682\n",
              "16                                MDH Kashmiri Mirch 100g  ...  5478541265\n",
              "...                                                   ...  ...         ...\n",
              "287037               Kashi Dark Cocoa Karma Cereal 16.1oz  ...  B01HJ57HNG\n",
              "287040  Kashi Quinoa Corn &amp; Roasted Pepper Granola...  ...  B01HJ5Y05Y\n",
              "287041  WakeShake Collagen Protein Meal Replacement Sh...  ...  B01HJ7QPKU\n",
              "287046  Caffarel Fruit Jellies, Organic Assorted, 200 ...  ...  B01HJFBN9A\n",
              "287050  McClure's Pickles Bloody Mary Mix-Spicy-32 oz ...  ...  B01HJFRDDA\n",
              "\n",
              "[123492 rows x 3 columns]"
            ]
          },
          "metadata": {},
          "execution_count": 25
        }
      ]
    },
    {
      "cell_type": "markdown",
      "source": [
        "Finally, we save the file as an excel file and a csv file."
      ],
      "metadata": {
        "id": "JUGEAoy_18kT"
      }
    },
    {
      "cell_type": "code",
      "source": [
        "name = 'amazon_food'\n",
        "cleaned_data.to_excel(name+'.xlsx',index=False)\n",
        "cleaned_data.to_csv(name+'.csv',index=False)"
      ],
      "metadata": {
        "id": "mMG78AHedC72"
      },
      "execution_count": null,
      "outputs": []
    }
  ]
}