{
 "cells": [
  {
   "cell_type": "code",
   "execution_count": 2,
   "id": "ac540cdb",
   "metadata": {},
   "outputs": [],
   "source": [
    "import pandas as pd\n",
    "import numpy as np\n",
    "import spacy\n",
    "import random"
   ]
  },
  {
   "cell_type": "code",
   "execution_count": 50,
   "id": "b5d65f56",
   "metadata": {},
   "outputs": [],
   "source": [
    "data = pd.read_csv('datasets/amazon/sampled.csv')\n",
    "\n",
    "def shuffle_title(entry):\n",
    "    title_list = entry.title.replace(entry.brand,'').split(' ')\n",
    "    title_list.append(' ' + entry.brand)\n",
    "    #print(title_list)\n",
    "    random.shuffle(title_list)\n",
    "    shuffled_title = ' '.join(title_list)\n",
    "    entry.title = shuffled_title\n",
    "    return entry\n",
    "    "
   ]
  },
  {
   "cell_type": "code",
   "execution_count": 51,
   "id": "091967fb",
   "metadata": {},
   "outputs": [],
   "source": [
    "data_shuffled = data.apply(lambda x : shuffle_title(x),axis=1)"
   ]
  },
  {
   "cell_type": "code",
   "execution_count": 55,
   "id": "fa165629",
   "metadata": {},
   "outputs": [],
   "source": [
    "data_shuffled.to_csv('datasets/amazon/shuffled.csv',index=False)"
   ]
  },
  {
   "cell_type": "markdown",
   "id": "a51d4ce3",
   "metadata": {},
   "source": [
    "# Loading Data:\n",
    "\n",
    "In this part, we will load data from the Amazon Product Review dataset, available at this link : https://nijianmo.github.io/amazon/index.html\n",
    "\n",
    "The dataset contains metadata and reviews for more than a million amazon product, we just need the metadata in our case, more precisely, the title and brand column, which was cleaned to keep only titles **containing a brand in them**. In our case we are using just office furnitures data but you can apply this project on any Amazon dataset. Or any dataset as long as it contains title and brand columns."
   ]
  },
  {
   "cell_type": "code",
   "execution_count": 6,
   "id": "ecd42704",
   "metadata": {},
   "outputs": [],
   "source": [
    "DATA_PATH = 'datasets/amazon/'\n",
    "filenames = ['amazon_computers.csv','amazon_food.csv','amazon_industrial.csv','amazon_office.csv']\n",
    "df_list = []\n",
    "for fn in filenames:\n",
    "    df_topic = pd.read_csv(DATA_PATH+fn)\n",
    "    df_list.append(df_topic)\n",
    "data = pd.concat(df_list)"
   ]
  },
  {
   "cell_type": "code",
   "execution_count": 9,
   "id": "e329ed25",
   "metadata": {},
   "outputs": [
    {
     "data": {
      "text/html": [
       "<div>\n",
       "<style scoped>\n",
       "    .dataframe tbody tr th:only-of-type {\n",
       "        vertical-align: middle;\n",
       "    }\n",
       "\n",
       "    .dataframe tbody tr th {\n",
       "        vertical-align: top;\n",
       "    }\n",
       "\n",
       "    .dataframe thead th {\n",
       "        text-align: right;\n",
       "    }\n",
       "</style>\n",
       "<table border=\"1\" class=\"dataframe\">\n",
       "  <thead>\n",
       "    <tr style=\"text-align: right;\">\n",
       "      <th></th>\n",
       "      <th>title</th>\n",
       "      <th>brand</th>\n",
       "      <th>asin</th>\n",
       "    </tr>\n",
       "  </thead>\n",
       "  <tbody>\n",
       "    <tr>\n",
       "      <th>0</th>\n",
       "      <td>FLT&amp;reg; Laptop AC Adapter/Power Supply/Charge...</td>\n",
       "      <td>FLT</td>\n",
       "      <td>6666666038</td>\n",
       "    </tr>\n",
       "    <tr>\n",
       "      <th>1</th>\n",
       "      <td>uxcell Flexible Neck Black Three Blade Compute...</td>\n",
       "      <td>uxcell</td>\n",
       "      <td>7884139057</td>\n",
       "    </tr>\n",
       "    <tr>\n",
       "      <th>2</th>\n",
       "      <td>IKEA - UPPT&amp;Auml;CKA Backpack, dark gray, yell...</td>\n",
       "      <td>IKEA</td>\n",
       "      <td>9178910897</td>\n",
       "    </tr>\n",
       "    <tr>\n",
       "      <th>3</th>\n",
       "      <td>Princeton Eo2010 21\" Monitor (Pc/Mac)</td>\n",
       "      <td>Princeton</td>\n",
       "      <td>B00001MXZ7</td>\n",
       "    </tr>\n",
       "    <tr>\n",
       "      <th>4</th>\n",
       "      <td>ViewSonic E790 19\" Monitor</td>\n",
       "      <td>ViewSonic</td>\n",
       "      <td>B00004TS2P</td>\n",
       "    </tr>\n",
       "    <tr>\n",
       "      <th>...</th>\n",
       "      <td>...</td>\n",
       "      <td>...</td>\n",
       "      <td>...</td>\n",
       "    </tr>\n",
       "    <tr>\n",
       "      <th>83047</th>\n",
       "      <td>Magicard Enduro3e ID Card Printer &amp;amp; Suppli...</td>\n",
       "      <td>Magicard</td>\n",
       "      <td>B01HIXEFXY</td>\n",
       "    </tr>\n",
       "    <tr>\n",
       "      <th>83048</th>\n",
       "      <td>Generic Input ADF Paper Chute Tray for Fujitsu...</td>\n",
       "      <td>Generic</td>\n",
       "      <td>B01HJ9SBM8</td>\n",
       "    </tr>\n",
       "    <tr>\n",
       "      <th>83049</th>\n",
       "      <td>Bilipala 4Pcs Colored Plastic Magnetic Chalk H...</td>\n",
       "      <td>Bilipala</td>\n",
       "      <td>B01HJCZ0I8</td>\n",
       "    </tr>\n",
       "    <tr>\n",
       "      <th>83050</th>\n",
       "      <td>Nintendo Super Mario Bros. Lanyard with Mario ...</td>\n",
       "      <td>Nintendo</td>\n",
       "      <td>B01HJF4C66</td>\n",
       "    </tr>\n",
       "    <tr>\n",
       "      <th>83051</th>\n",
       "      <td>CatchTheWave Natural Wood Pen Holder Folding S...</td>\n",
       "      <td>CatchTheWave</td>\n",
       "      <td>B01HJF6JIA</td>\n",
       "    </tr>\n",
       "  </tbody>\n",
       "</table>\n",
       "<p>253225 rows × 3 columns</p>\n",
       "</div>"
      ],
      "text/plain": [
       "                                                   title         brand  \\\n",
       "0      FLT&reg; Laptop AC Adapter/Power Supply/Charge...           FLT   \n",
       "1      uxcell Flexible Neck Black Three Blade Compute...        uxcell   \n",
       "2      IKEA - UPPT&Auml;CKA Backpack, dark gray, yell...          IKEA   \n",
       "3                  Princeton Eo2010 21\" Monitor (Pc/Mac)     Princeton   \n",
       "4                             ViewSonic E790 19\" Monitor     ViewSonic   \n",
       "...                                                  ...           ...   \n",
       "83047  Magicard Enduro3e ID Card Printer &amp; Suppli...      Magicard   \n",
       "83048  Generic Input ADF Paper Chute Tray for Fujitsu...       Generic   \n",
       "83049  Bilipala 4Pcs Colored Plastic Magnetic Chalk H...      Bilipala   \n",
       "83050  Nintendo Super Mario Bros. Lanyard with Mario ...      Nintendo   \n",
       "83051  CatchTheWave Natural Wood Pen Holder Folding S...  CatchTheWave   \n",
       "\n",
       "             asin  \n",
       "0      6666666038  \n",
       "1      7884139057  \n",
       "2      9178910897  \n",
       "3      B00001MXZ7  \n",
       "4      B00004TS2P  \n",
       "...           ...  \n",
       "83047  B01HIXEFXY  \n",
       "83048  B01HJ9SBM8  \n",
       "83049  B01HJCZ0I8  \n",
       "83050  B01HJF4C66  \n",
       "83051  B01HJF6JIA  \n",
       "\n",
       "[253225 rows x 3 columns]"
      ]
     },
     "execution_count": 9,
     "metadata": {},
     "output_type": "execute_result"
    }
   ],
   "source": [
    "data"
   ]
  },
  {
   "cell_type": "code",
   "execution_count": 10,
   "id": "22bac1ea",
   "metadata": {},
   "outputs": [
    {
     "data": {
      "text/plain": [
       "uxcell                1969\n",
       "HP                    1357\n",
       "Canon                 1265\n",
       "Epson                 1073\n",
       "Brother                956\n",
       "                      ... \n",
       "Farina Di Castagne       1\n",
       "Better Than Pasta        1\n",
       "Miyasaka                 1\n",
       "MAMBI                    1\n",
       "CatchTheWave             1\n",
       "Name: brand, Length: 36741, dtype: int64"
      ]
     },
     "execution_count": 10,
     "metadata": {},
     "output_type": "execute_result"
    }
   ],
   "source": [
    "# Let's see how many brands\n",
    "data.brand.value_counts()"
   ]
  },
  {
   "cell_type": "code",
   "execution_count": 21,
   "id": "136a4820",
   "metadata": {},
   "outputs": [
    {
     "data": {
      "text/html": [
       "<div>\n",
       "<style scoped>\n",
       "    .dataframe tbody tr th:only-of-type {\n",
       "        vertical-align: middle;\n",
       "    }\n",
       "\n",
       "    .dataframe tbody tr th {\n",
       "        vertical-align: top;\n",
       "    }\n",
       "\n",
       "    .dataframe thead th {\n",
       "        text-align: right;\n",
       "    }\n",
       "</style>\n",
       "<table border=\"1\" class=\"dataframe\">\n",
       "  <thead>\n",
       "    <tr style=\"text-align: right;\">\n",
       "      <th></th>\n",
       "      <th>title</th>\n",
       "      <th>brand</th>\n",
       "      <th>asin</th>\n",
       "    </tr>\n",
       "  </thead>\n",
       "  <tbody>\n",
       "    <tr>\n",
       "      <th>111880</th>\n",
       "      <td>(2 Pack) Journey to India, Vindaloo Meal Kit, ...</td>\n",
       "      <td>(2 Pack) Journey to India, Vindaloo</td>\n",
       "      <td>B0149D4QGM</td>\n",
       "    </tr>\n",
       "  </tbody>\n",
       "</table>\n",
       "</div>"
      ],
      "text/plain": [
       "                                                    title  \\\n",
       "111880  (2 Pack) Journey to India, Vindaloo Meal Kit, ...   \n",
       "\n",
       "                                      brand        asin  \n",
       "111880  (2 Pack) Journey to India, Vindaloo  B0149D4QGM  "
      ]
     },
     "execution_count": 21,
     "metadata": {},
     "output_type": "execute_result"
    }
   ],
   "source": [
    "data[data.brand == '(2 Pack) Journey to India, Vindaloo']"
   ]
  },
  {
   "cell_type": "code",
   "execution_count": 179,
   "id": "c17aae6b",
   "metadata": {},
   "outputs": [],
   "source": [
    "# Let's clean the data, remove books and keep only titles with a brand in them\n",
    "\n",
    "leave_categories = 'Books'\n",
    "\n",
    "clean_data = full_data[full_data.main_cat != leave_categories]\n",
    "\n",
    "# Removing titles with no brand in them :\n",
    "\n",
    "clean_data = clean_data[clean_data.apply(lambda x: str(x['brand']) in str(x['title']), axis=1)]"
   ]
  },
  {
   "cell_type": "code",
   "execution_count": 180,
   "id": "9bfb02df",
   "metadata": {},
   "outputs": [
    {
     "data": {
      "text/plain": [
       "(160321, 4)"
      ]
     },
     "execution_count": 180,
     "metadata": {},
     "output_type": "execute_result"
    }
   ],
   "source": [
    "clean_data.shape"
   ]
  },
  {
   "cell_type": "code",
   "execution_count": 181,
   "id": "43588b39",
   "metadata": {},
   "outputs": [],
   "source": [
    "# Some brands consist of numbers only and are read as float\n",
    "clean_data['brand'] = clean_data.brand.apply(lambda x : str(x))"
   ]
  },
  {
   "cell_type": "code",
   "execution_count": 182,
   "id": "42871874",
   "metadata": {},
   "outputs": [],
   "source": [
    "# Let's get rid of titles with brand having more than or 3 words\n",
    "clean_data = clean_data[clean_data.apply(lambda x : len(x['brand'].split(' ')) < 3,axis=1)]"
   ]
  },
  {
   "cell_type": "code",
   "execution_count": 183,
   "id": "fd722087",
   "metadata": {},
   "outputs": [
    {
     "data": {
      "text/plain": [
       "(150477, 4)"
      ]
     },
     "execution_count": 183,
     "metadata": {},
     "output_type": "execute_result"
    }
   ],
   "source": [
    "clean_data.shape"
   ]
  },
  {
   "cell_type": "markdown",
   "id": "c3b9f4d6",
   "metadata": {},
   "source": [
    "Let's check the distribution of brands across titles"
   ]
  },
  {
   "cell_type": "code",
   "execution_count": 49,
   "id": "85c2c426",
   "metadata": {},
   "outputs": [
    {
     "data": {
      "text/plain": [
       "0                 Reader Smart  &hellip; (White)  +iD Card\n",
       "1        Fall Small Europe  1-800-Flowers - of  for - F...\n",
       "2        Only Bouquet Roses By... Valentine's Red Day O...\n",
       "3         &amp; Large  1-800-Flowers - - Fruit Gourmet ...\n",
       "4        Dish Classic - Large  Sympathy -  1-800-Flower...\n",
       "                               ...                        \n",
       "98823    Connector Spade ?150pcs Crimp Yellow Piggyback...\n",
       "98824    Shopping Shopping Handcart Toy Mode Utility Su...\n",
       "98825     yueton 1/4 Pin Inch  of 100pcs Tacks Red Push...\n",
       "98826                           Cellular   Booster  zBoost\n",
       "98827    Comb Handle Remover Practical Cleaner Embedded...\n",
       "Length: 98828, dtype: object"
      ]
     },
     "execution_count": 49,
     "metadata": {},
     "output_type": "execute_result"
    }
   ],
   "source": [
    "data_shuffled"
   ]
  },
  {
   "cell_type": "code",
   "execution_count": 53,
   "id": "13c0e27d",
   "metadata": {},
   "outputs": [],
   "source": [
    "# Return the percent of titles with brand in their start\n",
    "def percent_of_brand_in_start(data):\n",
    "    n = 0\n",
    "    for i, item in data.iterrows():\n",
    "        title = item['title']\n",
    "        brand = item['brand']\n",
    "        if title.find(brand) == 0:\n",
    "            n += 1\n",
    "    print(\"% of titles with brand in their start : \", n/data.shape[0] * 100, '%')"
   ]
  },
  {
   "cell_type": "code",
   "execution_count": 54,
   "id": "77f90d46",
   "metadata": {},
   "outputs": [
    {
     "name": "stdout",
     "output_type": "stream",
     "text": [
      "% of titles with brand in their start :  0.0010118589873315254 %\n"
     ]
    }
   ],
   "source": [
    "percent_of_brand_in_start(data_shuffled)"
   ]
  },
  {
   "cell_type": "code",
   "execution_count": 206,
   "id": "cfd37bfe",
   "metadata": {},
   "outputs": [
    {
     "data": {
      "text/plain": [
       "Avery              2306\n",
       "3dRose             2196\n",
       "HP                 2034\n",
       "AT-A-GLANCE        1998\n",
       "Canon              1886\n",
       "                   ... \n",
       "Patch Magic           1\n",
       "Neptune Shop          1\n",
       "E-Ready Express       1\n",
       "Rulercosplay          1\n",
       "CatchTheWave          1\n",
       "Name: brand, Length: 14116, dtype: int64"
      ]
     },
     "execution_count": 206,
     "metadata": {},
     "output_type": "execute_result"
    }
   ],
   "source": [
    "clean_data.brand.value_counts()"
   ]
  },
  {
   "cell_type": "markdown",
   "id": "c5cb2ee8",
   "metadata": {},
   "source": [
    "With more than 80% of titles having brands as the first word, our model can be very biased and could predict the first word in each title as as brand, let's try to improve this dataset :\n",
    "- We will keep 50% of titles having brand as the first word\n",
    "- For the rest :\n",
    "    - Remove brand from title\n",
    "    - Put it in a random place : ex : Middle, End, etc."
   ]
  },
  {
   "cell_type": "code",
   "execution_count": 205,
   "id": "714bb70d",
   "metadata": {},
   "outputs": [],
   "source": [
    "clean_data.to_csv('clean_data.csv',index=False)"
   ]
  },
  {
   "cell_type": "markdown",
   "id": "a38d0e80",
   "metadata": {},
   "source": [
    "# Improving the dataset"
   ]
  },
  {
   "cell_type": "markdown",
   "id": "837fbcaf",
   "metadata": {},
   "source": [
    "First, given limited computation abilities, we will only take 30k titles out of 116k, make sure to use random state for reproducability\n",
    "\n",
    "**todo:** Find a way to sample from various brands as possible (no more than 2 titles per brand for example)"
   ]
  },
  {
   "cell_type": "code",
   "execution_count": 17,
   "id": "1834a5a6",
   "metadata": {},
   "outputs": [],
   "source": [
    "# Try to sample 1-5 example from each brand\n",
    "\n",
    "def sample_from_brand(brand_df):\n",
    "    if len(brand_df) > 10:\n",
    "        sample_size = 10\n",
    "    else: \n",
    "        sample_size = len(brand_df)\n",
    "    return brand_df.sample(sample_size)\n",
    "\n",
    "def sample_brand_equally(df,random_state=42):\n",
    "    grp_brand = df.groupby('brand').apply(lambda b : sample_from_brand(b))\n",
    "    return grp_brand\n",
    "    \"\"\"\n",
    "    for brand_name,brand_count in grp_brand.iteritems() : \n",
    "        if brand_count > 10:\n",
    "            sample_size = 10\n",
    "        else:\n",
    "            sample_size = brand_count\n",
    "        \n",
    "        brand_sample = df[df.brand == brand_name].sample(sample_size,random_state=42)\n",
    "        samples.append(brand_sample)\n",
    "    return pd.concat(samples)\n",
    "    \"\"\""
   ]
  },
  {
   "cell_type": "code",
   "execution_count": 22,
   "id": "070bb38a",
   "metadata": {},
   "outputs": [],
   "source": [
    "sampled = sample_brand_equally(data)"
   ]
  },
  {
   "cell_type": "code",
   "execution_count": 23,
   "id": "3848d30d",
   "metadata": {},
   "outputs": [],
   "source": [
    "# Some further cleaning\n",
    "sampled = sampled.drop_duplicates(subset='title',keep='first')\n",
    "sampled = sampled[sampled.apply(lambda x: len(x['brand'].split(' ')) < 3,axis=1)]"
   ]
  },
  {
   "cell_type": "code",
   "execution_count": 16,
   "id": "604c8435",
   "metadata": {},
   "outputs": [
    {
     "name": "stdout",
     "output_type": "stream",
     "text": [
      "Memory usage : 64.608907  mb\n"
     ]
    }
   ],
   "source": [
    "print('Memory usage :',data.memory_usage(deep=True).sum()/(1e6),' mb')"
   ]
  },
  {
   "cell_type": "code",
   "execution_count": 24,
   "id": "de20ed9a",
   "metadata": {},
   "outputs": [
    {
     "name": "stdout",
     "output_type": "stream",
     "text": [
      "(98828, 3)\n",
      "Eat Local           10\n",
      "Navitas Naturals    10\n",
      "Domenico's Foods    10\n",
      "Doll                10\n",
      "Dolfin              10\n",
      "                    ..\n",
      "Jojoen               1\n",
      "Joissu               1\n",
      "Joint Juice          1\n",
      "Joie                 1\n",
      "zjskin               1\n",
      "Name: brand, Length: 31438, dtype: int64\n"
     ]
    }
   ],
   "source": [
    "print(sampled.shape)\n",
    "print(sampled.brand.value_counts())"
   ]
  },
  {
   "cell_type": "code",
   "execution_count": 36,
   "id": "2dc1ea69",
   "metadata": {},
   "outputs": [],
   "source": [
    "sampled.to_csv('datasets/amazon/sampled.csv',index=False)\n",
    "sampled.to_excel('datasets/amazon/sampled.xlsx',index=False)"
   ]
  },
  {
   "cell_type": "markdown",
   "id": "c5007c71",
   "metadata": {},
   "source": [
    "We sample up to 5 rows from each brand, our sample contains all brands, which is good, we have only 21480 titles instead of 30k but it's alright."
   ]
  },
  {
   "cell_type": "code",
   "execution_count": 12,
   "id": "4bab6853",
   "metadata": {},
   "outputs": [],
   "source": [
    "def get_brand_in_first(df,n=10000,random_state=42):\n",
    "    \n",
    "    is_brand_first = df.apply(lambda x : x['title'].find(x['brand']) == 0,axis=1)\n",
    "    brand_first = df[is_brand_first].sample(n,random_state=random_state)   \n",
    "    return brand_first\n",
    "\n"
   ]
  },
  {
   "cell_type": "code",
   "execution_count": 14,
   "id": "a34c3a66",
   "metadata": {},
   "outputs": [],
   "source": [
    "brand_first = get_brand_in_first(sample,6000,random_state=42)"
   ]
  },
  {
   "cell_type": "code",
   "execution_count": 15,
   "id": "3971f0b1",
   "metadata": {},
   "outputs": [
    {
     "data": {
      "text/html": [
       "<div>\n",
       "<style scoped>\n",
       "    .dataframe tbody tr th:only-of-type {\n",
       "        vertical-align: middle;\n",
       "    }\n",
       "\n",
       "    .dataframe tbody tr th {\n",
       "        vertical-align: top;\n",
       "    }\n",
       "\n",
       "    .dataframe thead th {\n",
       "        text-align: right;\n",
       "    }\n",
       "</style>\n",
       "<table border=\"1\" class=\"dataframe\">\n",
       "  <thead>\n",
       "    <tr style=\"text-align: right;\">\n",
       "      <th></th>\n",
       "      <th>Unnamed: 0</th>\n",
       "      <th>title</th>\n",
       "      <th>brand</th>\n",
       "      <th>present</th>\n",
       "      <th>root_cat</th>\n",
       "    </tr>\n",
       "  </thead>\n",
       "  <tbody>\n",
       "    <tr>\n",
       "      <th>26319</th>\n",
       "      <td>26319</td>\n",
       "      <td>Biotene Oral Balance Saliva Replacement Gel Fo...</td>\n",
       "      <td>Biotene</td>\n",
       "      <td>True</td>\n",
       "      <td>26395</td>\n",
       "    </tr>\n",
       "    <tr>\n",
       "      <th>3260</th>\n",
       "      <td>3260</td>\n",
       "      <td>Zentosa Jewellery Silver Tone &amp; Entwined Faux ...</td>\n",
       "      <td>Zentosa Jewellery</td>\n",
       "      <td>True</td>\n",
       "      <td>281</td>\n",
       "    </tr>\n",
       "    <tr>\n",
       "      <th>4781</th>\n",
       "      <td>4781</td>\n",
       "      <td>Italeri 2676 1/48 Scale MC.200 Saetta Plastic ...</td>\n",
       "      <td>Italeri</td>\n",
       "      <td>True</td>\n",
       "      <td>220</td>\n",
       "    </tr>\n",
       "    <tr>\n",
       "      <th>1482</th>\n",
       "      <td>1482</td>\n",
       "      <td>Adobe Creative Suite Photoshop Dreamweaver Fla...</td>\n",
       "      <td>Adobe</td>\n",
       "      <td>True</td>\n",
       "      <td>58058</td>\n",
       "    </tr>\n",
       "    <tr>\n",
       "      <th>10195</th>\n",
       "      <td>10195</td>\n",
       "      <td>Logitech 2.1 Speaker System Z313  for PC, Xbox...</td>\n",
       "      <td>Logitech</td>\n",
       "      <td>True</td>\n",
       "      <td>58058</td>\n",
       "    </tr>\n",
       "    <tr>\n",
       "      <th>...</th>\n",
       "      <td>...</td>\n",
       "      <td>...</td>\n",
       "      <td>...</td>\n",
       "      <td>...</td>\n",
       "      <td>...</td>\n",
       "    </tr>\n",
       "    <tr>\n",
       "      <th>18629</th>\n",
       "      <td>18629</td>\n",
       "      <td>Hudson Ex-display Thursom3 Men's Suede Lace Up...</td>\n",
       "      <td>Hudson</td>\n",
       "      <td>True</td>\n",
       "      <td>11450</td>\n",
       "    </tr>\n",
       "    <tr>\n",
       "      <th>23015</th>\n",
       "      <td>23015</td>\n",
       "      <td>Eleganti Caresse slingback sheer heel 100% nyl...</td>\n",
       "      <td>Eleganti</td>\n",
       "      <td>True</td>\n",
       "      <td>11450</td>\n",
       "    </tr>\n",
       "    <tr>\n",
       "      <th>29617</th>\n",
       "      <td>29617</td>\n",
       "      <td>Fujifilm Zoom Date F2.8, 35mm camera &amp; Super E...</td>\n",
       "      <td>Fujifilm</td>\n",
       "      <td>True</td>\n",
       "      <td>625</td>\n",
       "    </tr>\n",
       "    <tr>\n",
       "      <th>640</th>\n",
       "      <td>640</td>\n",
       "      <td>LENOVO 60A3UAT2EU LT1423p Wired w. Screen Cove...</td>\n",
       "      <td>LENOVO</td>\n",
       "      <td>True</td>\n",
       "      <td>58058</td>\n",
       "    </tr>\n",
       "    <tr>\n",
       "      <th>27250</th>\n",
       "      <td>27250</td>\n",
       "      <td>Laval Pressed Powder Compact Blush Blusher - C...</td>\n",
       "      <td>Laval</td>\n",
       "      <td>True</td>\n",
       "      <td>26395</td>\n",
       "    </tr>\n",
       "  </tbody>\n",
       "</table>\n",
       "<p>6000 rows × 5 columns</p>\n",
       "</div>"
      ],
      "text/plain": [
       "       Unnamed: 0                                              title  \\\n",
       "26319       26319  Biotene Oral Balance Saliva Replacement Gel Fo...   \n",
       "3260         3260  Zentosa Jewellery Silver Tone & Entwined Faux ...   \n",
       "4781         4781  Italeri 2676 1/48 Scale MC.200 Saetta Plastic ...   \n",
       "1482         1482  Adobe Creative Suite Photoshop Dreamweaver Fla...   \n",
       "10195       10195  Logitech 2.1 Speaker System Z313  for PC, Xbox...   \n",
       "...           ...                                                ...   \n",
       "18629       18629  Hudson Ex-display Thursom3 Men's Suede Lace Up...   \n",
       "23015       23015  Eleganti Caresse slingback sheer heel 100% nyl...   \n",
       "29617       29617  Fujifilm Zoom Date F2.8, 35mm camera & Super E...   \n",
       "640           640  LENOVO 60A3UAT2EU LT1423p Wired w. Screen Cove...   \n",
       "27250       27250  Laval Pressed Powder Compact Blush Blusher - C...   \n",
       "\n",
       "                   brand  present  root_cat  \n",
       "26319            Biotene     True     26395  \n",
       "3260   Zentosa Jewellery     True       281  \n",
       "4781             Italeri     True       220  \n",
       "1482               Adobe     True     58058  \n",
       "10195           Logitech     True     58058  \n",
       "...                  ...      ...       ...  \n",
       "18629             Hudson     True     11450  \n",
       "23015           Eleganti     True     11450  \n",
       "29617           Fujifilm     True       625  \n",
       "640               LENOVO     True     58058  \n",
       "27250              Laval     True     26395  \n",
       "\n",
       "[6000 rows x 5 columns]"
      ]
     },
     "execution_count": 15,
     "metadata": {},
     "output_type": "execute_result"
    }
   ],
   "source": [
    "brand_first"
   ]
  },
  {
   "cell_type": "markdown",
   "id": "0646d79e",
   "metadata": {},
   "source": [
    "We now have around 15k titles with brands as their first word, let's try to get around 5000 titles with brand as their final word and and 10k with brand in the middle"
   ]
  },
  {
   "cell_type": "markdown",
   "id": "26f3557b",
   "metadata": {},
   "source": [
    "However since the dataset is quite biased, having more than 80% of titles with brand as first, we will use the fully cleaned dataset instead of the sample in order to be able to get 15k titles with no brand as their first word."
   ]
  },
  {
   "cell_type": "code",
   "execution_count": 16,
   "id": "83449e3a",
   "metadata": {},
   "outputs": [],
   "source": [
    "def number_brand_in_last(df):\n",
    "    is_brand_last = df.apply(lambda x : x['title'].endswith(x['brand']),axis=1)\n",
    "    brand_last = df[is_brand_last]\n",
    "    print(brand_last.shape)\n",
    "\n"
   ]
  },
  {
   "cell_type": "code",
   "execution_count": 17,
   "id": "021aa69c",
   "metadata": {},
   "outputs": [
    {
     "name": "stdout",
     "output_type": "stream",
     "text": [
      "(412, 5)\n"
     ]
    }
   ],
   "source": [
    "number_brand_in_last(clean_data)"
   ]
  },
  {
   "cell_type": "markdown",
   "id": "eec3e3d9",
   "metadata": {},
   "source": [
    "We only have 2830 titles with brand as their last word, we will take all these then."
   ]
  },
  {
   "cell_type": "code",
   "execution_count": 18,
   "id": "335197c6",
   "metadata": {},
   "outputs": [],
   "source": [
    "def get_brand_in_last(df,random_state=42):\n",
    "    is_brand_last = df.apply(lambda x : x['title'].endswith(x['brand']),axis=1)\n",
    "    brand_last = df[is_brand_last]\n",
    "    return brand_last"
   ]
  },
  {
   "cell_type": "code",
   "execution_count": 19,
   "id": "d7f62426",
   "metadata": {},
   "outputs": [],
   "source": [
    "brand_last = get_brand_in_last(clean_data)"
   ]
  },
  {
   "cell_type": "code",
   "execution_count": 20,
   "id": "4ab6ad1f",
   "metadata": {},
   "outputs": [
    {
     "data": {
      "text/plain": [
       "(412, 5)"
      ]
     },
     "execution_count": 20,
     "metadata": {},
     "output_type": "execute_result"
    }
   ],
   "source": [
    "brand_last.shape"
   ]
  },
  {
   "cell_type": "code",
   "execution_count": 217,
   "id": "d60e398a",
   "metadata": {},
   "outputs": [
    {
     "name": "stdout",
     "output_type": "stream",
     "text": [
      "15965\n"
     ]
    }
   ],
   "source": [
    "# Compute number of titles having brand in the middle\n",
    "# A brand is in the middle if it's not in first or last\n",
    "# N middle = N sample - (N brand in first word + N brand in last word)\n",
    "\n",
    "n_middle = sample.shape[0] - (brand_first.shape[0]+brand_last.shape[0])\n",
    "print(n_middle)"
   ]
  },
  {
   "cell_type": "code",
   "execution_count": 33,
   "id": "9824cf87",
   "metadata": {},
   "outputs": [],
   "source": [
    "def get_brand_middle(df,n,random_state=42):\n",
    "    is_brand_middle = df.apply(lambda x : x['title'].find(x['brand']) != 0 and x['title'].endswith(x['brand']) == False, axis=1)\n",
    "    brand_middle = df[is_brand_middle].sample(n)\n",
    "    return brand_middle\n",
    "    \n",
    "brand_middle = get_brand_middle(clean_data,5000)"
   ]
  },
  {
   "cell_type": "code",
   "execution_count": 34,
   "id": "57ef814a",
   "metadata": {},
   "outputs": [
    {
     "data": {
      "text/html": [
       "<div>\n",
       "<style scoped>\n",
       "    .dataframe tbody tr th:only-of-type {\n",
       "        vertical-align: middle;\n",
       "    }\n",
       "\n",
       "    .dataframe tbody tr th {\n",
       "        vertical-align: top;\n",
       "    }\n",
       "\n",
       "    .dataframe thead th {\n",
       "        text-align: right;\n",
       "    }\n",
       "</style>\n",
       "<table border=\"1\" class=\"dataframe\">\n",
       "  <thead>\n",
       "    <tr style=\"text-align: right;\">\n",
       "      <th></th>\n",
       "      <th>Unnamed: 0</th>\n",
       "      <th>title</th>\n",
       "      <th>brand</th>\n",
       "      <th>present</th>\n",
       "      <th>root_cat</th>\n",
       "    </tr>\n",
       "  </thead>\n",
       "  <tbody>\n",
       "    <tr>\n",
       "      <th>1968</th>\n",
       "      <td>1968</td>\n",
       "      <td>Genuine CRUSADER Tumble Dryer Jockey Pulley Wh...</td>\n",
       "      <td>Crusader</td>\n",
       "      <td>True</td>\n",
       "      <td>11700</td>\n",
       "    </tr>\n",
       "    <tr>\n",
       "      <th>14559</th>\n",
       "      <td>14559</td>\n",
       "      <td>DELL HEATSINK FOR POWEREDGE R810 T913G</td>\n",
       "      <td>Dell</td>\n",
       "      <td>True</td>\n",
       "      <td>58058</td>\n",
       "    </tr>\n",
       "    <tr>\n",
       "      <th>16145</th>\n",
       "      <td>16145</td>\n",
       "      <td>WRANGLER TEXAS MENS JEANS - STONEWASH BLUE - 2...</td>\n",
       "      <td>Wrangler</td>\n",
       "      <td>True</td>\n",
       "      <td>11450</td>\n",
       "    </tr>\n",
       "    <tr>\n",
       "      <th>9481</th>\n",
       "      <td>9481</td>\n",
       "      <td>Cherry Red GOLD MEDAL FLOSSINE Candy Floss Col...</td>\n",
       "      <td>Gold Medal</td>\n",
       "      <td>True</td>\n",
       "      <td>11700</td>\n",
       "    </tr>\n",
       "    <tr>\n",
       "      <th>1598</th>\n",
       "      <td>1598</td>\n",
       "      <td>With Love Large 14\" Ellie Teddy Bear - Soft To...</td>\n",
       "      <td>Suki</td>\n",
       "      <td>True</td>\n",
       "      <td>220</td>\n",
       "    </tr>\n",
       "    <tr>\n",
       "      <th>...</th>\n",
       "      <td>...</td>\n",
       "      <td>...</td>\n",
       "      <td>...</td>\n",
       "      <td>...</td>\n",
       "      <td>...</td>\n",
       "    </tr>\n",
       "    <tr>\n",
       "      <th>17862</th>\n",
       "      <td>17862</td>\n",
       "      <td>MENS FLY LONDON WIKI BLACK RUG LEATHER OIL SUE...</td>\n",
       "      <td>Fly London</td>\n",
       "      <td>True</td>\n",
       "      <td>11450</td>\n",
       "    </tr>\n",
       "    <tr>\n",
       "      <th>9284</th>\n",
       "      <td>9284</td>\n",
       "      <td>SPRENGER BALKENHOL ULTRA-FIT SPURS, 35mm, PAST...</td>\n",
       "      <td>Sprenger</td>\n",
       "      <td>True</td>\n",
       "      <td>888</td>\n",
       "    </tr>\n",
       "    <tr>\n",
       "      <th>4973</th>\n",
       "      <td>4973</td>\n",
       "      <td>EDBIG5304 - Eduard Big Ed Sets 1:350 - Bismarc...</td>\n",
       "      <td>Eduard</td>\n",
       "      <td>True</td>\n",
       "      <td>220</td>\n",
       "    </tr>\n",
       "    <tr>\n",
       "      <th>12700</th>\n",
       "      <td>12700</td>\n",
       "      <td>NEW GENUINE JAGUAR XJ8 XK8 ALTERNATOR SURPRESS...</td>\n",
       "      <td>JAGUAR</td>\n",
       "      <td>True</td>\n",
       "      <td>131090</td>\n",
       "    </tr>\n",
       "    <tr>\n",
       "      <th>9251</th>\n",
       "      <td>9251</td>\n",
       "      <td>1 x WURTH SOFTWAX STICK WOOD REPAIR SCRATCHES ...</td>\n",
       "      <td>Wurth</td>\n",
       "      <td>True</td>\n",
       "      <td>14339</td>\n",
       "    </tr>\n",
       "  </tbody>\n",
       "</table>\n",
       "<p>5000 rows × 5 columns</p>\n",
       "</div>"
      ],
      "text/plain": [
       "       Unnamed: 0                                              title  \\\n",
       "1968         1968  Genuine CRUSADER Tumble Dryer Jockey Pulley Wh...   \n",
       "14559       14559             DELL HEATSINK FOR POWEREDGE R810 T913G   \n",
       "16145       16145  WRANGLER TEXAS MENS JEANS - STONEWASH BLUE - 2...   \n",
       "9481         9481  Cherry Red GOLD MEDAL FLOSSINE Candy Floss Col...   \n",
       "1598         1598  With Love Large 14\" Ellie Teddy Bear - Soft To...   \n",
       "...           ...                                                ...   \n",
       "17862       17862  MENS FLY LONDON WIKI BLACK RUG LEATHER OIL SUE...   \n",
       "9284         9284  SPRENGER BALKENHOL ULTRA-FIT SPURS, 35mm, PAST...   \n",
       "4973         4973  EDBIG5304 - Eduard Big Ed Sets 1:350 - Bismarc...   \n",
       "12700       12700  NEW GENUINE JAGUAR XJ8 XK8 ALTERNATOR SURPRESS...   \n",
       "9251         9251  1 x WURTH SOFTWAX STICK WOOD REPAIR SCRATCHES ...   \n",
       "\n",
       "            brand  present  root_cat  \n",
       "1968     Crusader     True     11700  \n",
       "14559        Dell     True     58058  \n",
       "16145    Wrangler     True     11450  \n",
       "9481   Gold Medal     True     11700  \n",
       "1598         Suki     True       220  \n",
       "...           ...      ...       ...  \n",
       "17862  Fly London     True     11450  \n",
       "9284     Sprenger     True       888  \n",
       "4973       Eduard     True       220  \n",
       "12700      JAGUAR     True    131090  \n",
       "9251        Wurth     True     14339  \n",
       "\n",
       "[5000 rows x 5 columns]"
      ]
     },
     "execution_count": 34,
     "metadata": {},
     "output_type": "execute_result"
    }
   ],
   "source": [
    "brand_middle"
   ]
  },
  {
   "cell_type": "code",
   "execution_count": 35,
   "id": "59a3d752",
   "metadata": {},
   "outputs": [],
   "source": [
    "# That's it, time to concat all data : first_brand, last_brand, middle_brand\n",
    "\n",
    "new_data = pd.concat([brand_first,brand_last,brand_middle])"
   ]
  },
  {
   "cell_type": "code",
   "execution_count": 36,
   "id": "21ba8f87",
   "metadata": {},
   "outputs": [
    {
     "data": {
      "text/plain": [
       "(11412, 5)"
      ]
     },
     "execution_count": 36,
     "metadata": {},
     "output_type": "execute_result"
    }
   ],
   "source": [
    "new_data.shape"
   ]
  },
  {
   "cell_type": "code",
   "execution_count": 37,
   "id": "3dd0abf3",
   "metadata": {},
   "outputs": [
    {
     "data": {
      "text/plain": [
       "Dell       88\n",
       "Eduard     75\n",
       "Bicycle    59\n",
       "Bilibib    57\n",
       "HP         56\n",
       "           ..\n",
       "BlueArc     1\n",
       "i-Lit       1\n",
       "Etiderm     1\n",
       "KRUG        1\n",
       "Wurth       1\n",
       "Name: brand, Length: 3749, dtype: int64"
      ]
     },
     "execution_count": 37,
     "metadata": {},
     "output_type": "execute_result"
    }
   ],
   "source": [
    "new_data.brand.value_counts()"
   ]
  },
  {
   "cell_type": "code",
   "execution_count": 38,
   "id": "3c6641d3",
   "metadata": {},
   "outputs": [],
   "source": [
    "new_data.to_csv('data_format/sampled_ebay.csv',index=False)"
   ]
  },
  {
   "cell_type": "code",
   "execution_count": 39,
   "id": "817e2a09",
   "metadata": {},
   "outputs": [],
   "source": [
    "new_data.to_excel('data_format/sampled_ebay.xlsx',index=False)"
   ]
  },
  {
   "cell_type": "markdown",
   "id": "0fabd857",
   "metadata": {},
   "source": [
    "we now have a little over 20k titles with brands in different places : first (50%), middle(40%), end(~10%)"
   ]
  }
 ],
 "metadata": {
  "kernelspec": {
   "display_name": "Python 3 (ipykernel)",
   "language": "python",
   "name": "python3"
  },
  "language_info": {
   "codemirror_mode": {
    "name": "ipython",
    "version": 3
   },
   "file_extension": ".py",
   "mimetype": "text/x-python",
   "name": "python",
   "nbconvert_exporter": "python",
   "pygments_lexer": "ipython3",
   "version": "3.9.7"
  }
 },
 "nbformat": 4,
 "nbformat_minor": 5
}
